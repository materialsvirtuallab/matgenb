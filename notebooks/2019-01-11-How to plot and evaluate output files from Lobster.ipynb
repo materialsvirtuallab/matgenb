{
 "cells": [
  {
   "cell_type": "markdown",
   "metadata": {},
   "source": [
    "# Introduction\n",
    "\n",
    "This notebook was written by Janine George (E-mail: [janine.george@uclouvain.be](mailto:janine.george@uclouvain.be) Université catholique de Louvain, [https://jageo.github.io/](https://jageo.github.io/)).\n",
    "\n",
    "This notebook shows how to plot Crystal Orbital Hamilton Population (COHP) and projected densities of states calculated with the Local-Orbital Basis Suite Towards Electronic-Structure Reconstruction (LOBSTER) code. Furtheremore, the classes Icohplist and Charge to evaluate ICOHPLIST.lobster and CHARGE.lobster are explained. See http://www.cohp.de for more information. The code to plot COHP and evaluate ICOHPLIST.lobster in pymatgen was started Marco Esters and Anubhav Jain and extended by Janine George. The classes to plot DOSCAR.lobster, and to evaluate CHARGE.lobster were written by Janine George."
   ]
  },
  {
   "cell_type": "code",
   "execution_count": null,
   "metadata": {},
   "outputs": [],
   "source": [
    "# Uncomment the subsequent lines in this cell to install dependencies for Google Colab.\n",
    "# !pip install -U pymatgen"
   ]
  },
  {
   "cell_type": "markdown",
   "metadata": {},
   "source": [
    "# How to plot COHPCAR.lobster"
   ]
  },
  {
   "cell_type": "markdown",
   "metadata": {},
   "source": [
    "## get relevant classes"
   ]
  },
  {
   "cell_type": "code",
   "execution_count": null,
   "metadata": {},
   "outputs": [],
   "source": [
    "from pymatgen.electronic_structure.cohp import CompleteCohp\n",
    "from pymatgen.electronic_structure.plotter import CohpPlotter\n",
    "\n",
    "%matplotlib inline"
   ]
  },
  {
   "cell_type": "markdown",
   "metadata": {},
   "source": [
    "## get a completecohp object to simplify the plotting"
   ]
  },
  {
   "cell_type": "code",
   "execution_count": null,
   "metadata": {},
   "outputs": [
    {
     "ename": "ValueError",
     "evalue": "setting an array element with a sequence. The requested array has an inhomogeneous shape after 1 dimensions. The detected shape was (402,) + inhomogeneous part.",
     "output_type": "error",
     "traceback": [
      "\u001b[0;31m---------------------------------------------------------------------------\u001b[0m",
      "\u001b[0;31mValueError\u001b[0m                                Traceback (most recent call last)",
      "Cell \u001b[0;32mIn[3], line 4\u001b[0m\n\u001b[1;32m      1\u001b[0m COHPCAR_path \u001b[38;5;241m=\u001b[39m \u001b[38;5;124m\"\u001b[39m\u001b[38;5;124mlobster_data/GaAs/COHPCAR.lobster_new\u001b[39m\u001b[38;5;124m\"\u001b[39m\n\u001b[1;32m      2\u001b[0m POSCAR_path \u001b[38;5;241m=\u001b[39m \u001b[38;5;124m\"\u001b[39m\u001b[38;5;124mlobster_data/GaAs/POSCAR_new\u001b[39m\u001b[38;5;124m\"\u001b[39m\n\u001b[0;32m----> 4\u001b[0m completecohp \u001b[38;5;241m=\u001b[39m \u001b[43mCompleteCohp\u001b[49m\u001b[38;5;241;43m.\u001b[39;49m\u001b[43mfrom_file\u001b[49m\u001b[43m(\u001b[49m\n\u001b[1;32m      5\u001b[0m \u001b[43m    \u001b[49m\u001b[43mfmt\u001b[49m\u001b[38;5;241;43m=\u001b[39;49m\u001b[38;5;124;43m\"\u001b[39;49m\u001b[38;5;124;43mLOBSTER\u001b[39;49m\u001b[38;5;124;43m\"\u001b[39;49m\u001b[43m,\u001b[49m\u001b[43m \u001b[49m\u001b[43mfilename\u001b[49m\u001b[38;5;241;43m=\u001b[39;49m\u001b[43mCOHPCAR_path\u001b[49m\u001b[43m,\u001b[49m\u001b[43m \u001b[49m\u001b[43mstructure_file\u001b[49m\u001b[38;5;241;43m=\u001b[39;49m\u001b[43mPOSCAR_path\u001b[49m\n\u001b[1;32m      6\u001b[0m \u001b[43m)\u001b[49m\n",
      "File \u001b[0;32m~/developer/pymatgen/src/pymatgen/electronic_structure/cohp.py:788\u001b[0m, in \u001b[0;36mCompleteCohp.from_file\u001b[0;34m(cls, fmt, filename, structure_file, are_coops, are_cobis, are_multi_center_cobis)\u001b[0m\n\u001b[1;32m    786\u001b[0m         \u001b[38;5;28;01melse\u001b[39;00m:\n\u001b[1;32m    787\u001b[0m             filename \u001b[38;5;241m=\u001b[39m \u001b[38;5;124m\"\u001b[39m\u001b[38;5;124mCOHPCAR.lobster\u001b[39m\u001b[38;5;124m\"\u001b[39m\n\u001b[0;32m--> 788\u001b[0m     cohp_file \u001b[38;5;241m=\u001b[39m \u001b[43mCohpcar\u001b[49m\u001b[43m(\u001b[49m\n\u001b[1;32m    789\u001b[0m \u001b[43m        \u001b[49m\u001b[43mfilename\u001b[49m\u001b[38;5;241;43m=\u001b[39;49m\u001b[43mfilename\u001b[49m\u001b[43m,\u001b[49m\n\u001b[1;32m    790\u001b[0m \u001b[43m        \u001b[49m\u001b[43mare_coops\u001b[49m\u001b[38;5;241;43m=\u001b[39;49m\u001b[43mare_coops\u001b[49m\u001b[43m,\u001b[49m\n\u001b[1;32m    791\u001b[0m \u001b[43m        \u001b[49m\u001b[43mare_cobis\u001b[49m\u001b[38;5;241;43m=\u001b[39;49m\u001b[43mare_cobis\u001b[49m\u001b[43m,\u001b[49m\n\u001b[1;32m    792\u001b[0m \u001b[43m        \u001b[49m\u001b[43mare_multi_center_cobis\u001b[49m\u001b[38;5;241;43m=\u001b[39;49m\u001b[43mare_multi_center_cobis\u001b[49m\u001b[43m,\u001b[49m\n\u001b[1;32m    793\u001b[0m \u001b[43m    \u001b[49m\u001b[43m)\u001b[49m\n\u001b[1;32m    794\u001b[0m     orb_res_cohp \u001b[38;5;241m=\u001b[39m cohp_file\u001b[38;5;241m.\u001b[39morb_res_cohp\n\u001b[1;32m    796\u001b[0m \u001b[38;5;28;01melse\u001b[39;00m:\n",
      "File \u001b[0;32m~/developer/pymatgen/src/pymatgen/io/lobster/outputs.py:138\u001b[0m, in \u001b[0;36mCohpcar.__init__\u001b[0;34m(self, are_coops, are_cobis, are_multi_center_cobis, is_lcfo, filename)\u001b[0m\n\u001b[1;32m    135\u001b[0m cohp_data: \u001b[38;5;28mdict\u001b[39m[\u001b[38;5;28mstr\u001b[39m, \u001b[38;5;28mdict\u001b[39m[\u001b[38;5;28mstr\u001b[39m, Any]] \u001b[38;5;241m=\u001b[39m {}\n\u001b[1;32m    136\u001b[0m \u001b[38;5;28;01mif\u001b[39;00m \u001b[38;5;129;01mnot\u001b[39;00m \u001b[38;5;28mself\u001b[39m\u001b[38;5;241m.\u001b[39mare_multi_center_cobis:\n\u001b[1;32m    137\u001b[0m     \u001b[38;5;66;03m# The COHP data start in line num_bonds + 3\u001b[39;00m\n\u001b[0;32m--> 138\u001b[0m     data \u001b[38;5;241m=\u001b[39m \u001b[43mnp\u001b[49m\u001b[38;5;241;43m.\u001b[39;49m\u001b[43marray\u001b[49m\u001b[43m(\u001b[49m\u001b[43m[\u001b[49m\u001b[43mnp\u001b[49m\u001b[38;5;241;43m.\u001b[39;49m\u001b[43marray\u001b[49m\u001b[43m(\u001b[49m\u001b[43mline\u001b[49m\u001b[38;5;241;43m.\u001b[39;49m\u001b[43msplit\u001b[49m\u001b[43m(\u001b[49m\u001b[43m)\u001b[49m\u001b[43m,\u001b[49m\u001b[43m \u001b[49m\u001b[43mdtype\u001b[49m\u001b[38;5;241;43m=\u001b[39;49m\u001b[38;5;28;43mfloat\u001b[39;49m\u001b[43m)\u001b[49m\u001b[43m \u001b[49m\u001b[38;5;28;43;01mfor\u001b[39;49;00m\u001b[43m \u001b[49m\u001b[43mline\u001b[49m\u001b[43m \u001b[49m\u001b[38;5;129;43;01min\u001b[39;49;00m\u001b[43m \u001b[49m\u001b[43mlines\u001b[49m\u001b[43m[\u001b[49m\u001b[43mnum_bonds\u001b[49m\u001b[43m \u001b[49m\u001b[38;5;241;43m+\u001b[39;49m\u001b[43m \u001b[49m\u001b[38;5;241;43m3\u001b[39;49m\u001b[43m \u001b[49m\u001b[43m:\u001b[49m\u001b[43m]\u001b[49m\u001b[43m]\u001b[49m\u001b[43m)\u001b[49m\u001b[38;5;241m.\u001b[39mtranspose()\n\u001b[1;32m    139\u001b[0m     cohp_data \u001b[38;5;241m=\u001b[39m {\n\u001b[1;32m    140\u001b[0m         \u001b[38;5;124m\"\u001b[39m\u001b[38;5;124maverage\u001b[39m\u001b[38;5;124m\"\u001b[39m: {\n\u001b[1;32m    141\u001b[0m             \u001b[38;5;124m\"\u001b[39m\u001b[38;5;124mCOHP\u001b[39m\u001b[38;5;124m\"\u001b[39m: {spin: data[\u001b[38;5;241m1\u001b[39m \u001b[38;5;241m+\u001b[39m \u001b[38;5;241m2\u001b[39m \u001b[38;5;241m*\u001b[39m s \u001b[38;5;241m*\u001b[39m (num_bonds \u001b[38;5;241m+\u001b[39m \u001b[38;5;241m1\u001b[39m)] \u001b[38;5;28;01mfor\u001b[39;00m s, spin \u001b[38;5;129;01min\u001b[39;00m \u001b[38;5;28menumerate\u001b[39m(spins)},\n\u001b[1;32m    142\u001b[0m             \u001b[38;5;124m\"\u001b[39m\u001b[38;5;124mICOHP\u001b[39m\u001b[38;5;124m\"\u001b[39m: {spin: data[\u001b[38;5;241m2\u001b[39m \u001b[38;5;241m+\u001b[39m \u001b[38;5;241m2\u001b[39m \u001b[38;5;241m*\u001b[39m s \u001b[38;5;241m*\u001b[39m (num_bonds \u001b[38;5;241m+\u001b[39m \u001b[38;5;241m1\u001b[39m)] \u001b[38;5;28;01mfor\u001b[39;00m s, spin \u001b[38;5;129;01min\u001b[39;00m \u001b[38;5;28menumerate\u001b[39m(spins)},\n\u001b[1;32m    143\u001b[0m         }\n\u001b[1;32m    144\u001b[0m     }\n\u001b[1;32m    145\u001b[0m \u001b[38;5;28;01melse\u001b[39;00m:\n\u001b[1;32m    146\u001b[0m     \u001b[38;5;66;03m# The COBI data start in line num_bonds + 3 if multi-center cobis exist\u001b[39;00m\n",
      "\u001b[0;31mValueError\u001b[0m: setting an array element with a sequence. The requested array has an inhomogeneous shape after 1 dimensions. The detected shape was (402,) + inhomogeneous part."
     ]
    }
   ],
   "source": [
    "COHPCAR_path = \"lobster_data/GaAs/COHPCAR.lobster_new\"\n",
    "POSCAR_path = \"lobster_data/GaAs/POSCAR_new\"\n",
    "\n",
    "completecohp = CompleteCohp.from_file(\n",
    "    fmt=\"LOBSTER\", filename=COHPCAR_path, structure_file=POSCAR_path\n",
    ")"
   ]
  },
  {
   "cell_type": "markdown",
   "metadata": {},
   "source": [
    "## plot certain COHP\n",
    "You have to search for the label of the COHP you would like to plot in ICOHPLIST.lobster"
   ]
  },
  {
   "cell_type": "code",
   "execution_count": null,
   "metadata": {},
   "outputs": [],
   "source": [
    "# search for the number of the COHP you would like to plot in ICOHPLIST.lobster (the numbers in COHPCAR.lobster are different!)\n",
    "label = \"16\"\n",
    "cp = CohpPlotter()\n",
    "# get a nicer plot label\n",
    "plotlabel = (\n",
    "    str(completecohp.bonds[label][\"sites\"][0].species_string)\n",
    "    + \"-\"\n",
    "    + str(completecohp.bonds[label][\"sites\"][1].species_string)\n",
    ")\n",
    "\n",
    "cp.add_cohp(plotlabel, completecohp.get_cohp_by_label(label=label))\n",
    "# check which COHP you are plotting\n",
    "\n",
    "print(\n",
    "    \"This is a COHP between the following sites: \"\n",
    "    + str(completecohp.bonds[label][\"sites\"][0])\n",
    "    + \" and \"\n",
    "    + str(completecohp.bonds[label][\"sites\"][1])\n",
    ")\n",
    "\n",
    "x = cp.get_plot(integrated=False)\n",
    "x.ylim([-10, 6])\n",
    "\n",
    "x.show()"
   ]
  },
  {
   "cell_type": "markdown",
   "metadata": {},
   "source": [
    "## add several COHPs"
   ]
  },
  {
   "cell_type": "code",
   "execution_count": null,
   "metadata": {},
   "outputs": [],
   "source": [
    "# labels of the COHPs that will be summed!\n",
    "labelist = [\"16\", \"21\"]\n",
    "cp = CohpPlotter()\n",
    "# get a nicer plot label\n",
    "plotlabel = \"two Ga-As bonds\"\n",
    "\n",
    "cp.add_cohp(\n",
    "    plotlabel,\n",
    "    completecohp.get_summed_cohp_by_label_list(label_list=labelist, divisor=1),\n",
    ")\n",
    "x = cp.get_plot(integrated=False)\n",
    "x.ylim([-10, 6])\n",
    "x.show()"
   ]
  },
  {
   "cell_type": "markdown",
   "metadata": {},
   "source": [
    "## focus on certain orbitals only"
   ]
  },
  {
   "cell_type": "code",
   "execution_count": null,
   "metadata": {},
   "outputs": [],
   "source": [
    "# search for the number of the COHP you would like to plot in ICOHPLIST.lobster (the numbers in COHPCAR.lobster are different!)\n",
    "label = \"16\"\n",
    "cp = CohpPlotter()\n",
    "\n",
    "# get orbital object\n",
    "from pymatgen.electronic_structure.core import Orbital\n",
    "\n",
    "# interaction between 4s and 4px\n",
    "orbitals = [[4, Orbital.s], [4, Orbital.py]]\n",
    "orbitals2 = [[4, Orbital.s], [4, Orbital.pz]]\n",
    "# get a nicer plot label\n",
    "\n",
    "plotlabel = (\n",
    "    str(completecohp.bonds[label][\"sites\"][0].species_string)\n",
    "    + \"(4s)\"\n",
    "    + \"-\"\n",
    "    + str(completecohp.bonds[label][\"sites\"][1].species_string)\n",
    "    + \"(4py)\"\n",
    ")\n",
    "plotlabel2 = (\n",
    "    str(completecohp.bonds[label][\"sites\"][0].species_string)\n",
    "    + \"(4s)\"\n",
    "    + \"-\"\n",
    "    + str(completecohp.bonds[label][\"sites\"][1].species_string)\n",
    "    + \"(4pz)\"\n",
    ")\n",
    "\n",
    "cp.add_cohp(\n",
    "    plotlabel, completecohp.get_orbital_resolved_cohp(label=label, orbitals=orbitals)\n",
    ")\n",
    "cp.add_cohp(\n",
    "    plotlabel2, completecohp.get_orbital_resolved_cohp(label=label, orbitals=orbitals2)\n",
    ")\n",
    "# check which COHP you are plotting\n",
    "\n",
    "# with integrated=True, you can plot the integrated COHP\n",
    "x = cp.get_plot(integrated=False)\n",
    "x.ylim([-10, 6])\n",
    "\n",
    "x.show()"
   ]
  },
  {
   "cell_type": "markdown",
   "metadata": {},
   "source": [
    "# How to evaluate ICOHPLIST.lobster"
   ]
  },
  {
   "cell_type": "markdown",
   "metadata": {},
   "source": [
    "## get relevant classes"
   ]
  },
  {
   "cell_type": "code",
   "execution_count": null,
   "metadata": {},
   "outputs": [],
   "source": [
    "from pymatgen.io.lobster import Icohplist"
   ]
  },
  {
   "cell_type": "markdown",
   "metadata": {},
   "source": [
    "## read in ICOHPLIST.lobster and get Icohpcollection object"
   ]
  },
  {
   "cell_type": "code",
   "execution_count": null,
   "metadata": {},
   "outputs": [],
   "source": [
    "icohplist = Icohplist(filename=\"lobster_data/GaAs/ICOHPLIST.lobster\")\n",
    "icohpcollection = icohplist.icohpcollection"
   ]
  },
  {
   "cell_type": "markdown",
   "metadata": {},
   "source": [
    "## get interesting properties from ICOHPLIST.lobster "
   ]
  },
  {
   "cell_type": "code",
   "execution_count": null,
   "metadata": {},
   "outputs": [],
   "source": [
    "# get icohp value by label (labelling according to ICOHPLIST.lobster)\n",
    "# for spin polarized calculations you can also sum the spin channels\n",
    "print(\"icohp value for certain bond by label\")\n",
    "label = \"16\"\n",
    "print(icohpcollection.get_icohp_by_label(label))\n",
    "print()\n",
    "# you can get all Icohpvalue objects for certain bond lengths\n",
    "print(\"Icohp values for certain bonds with certain bond lengths\")\n",
    "for key, icohp in icohpcollection.get_icohp_dict_by_bondlengths(\n",
    "    minbondlength=0.0, maxbondlength=3.0\n",
    ").items():\n",
    "    print(key + \":\" + str(icohp.icohp))\n",
    "print()\n",
    "# you can get all icohps for a certain site\n",
    "print(\"ICOHP values of certain site\")\n",
    "for key, icohp in icohpcollection.get_icohp_dict_of_site(\n",
    "    site=0, minbondlength=0.0, maxbondlength=3.0\n",
    ").items():\n",
    "    print(key + \":\" + str(icohp.icohp))"
   ]
  },
  {
   "cell_type": "markdown",
   "metadata": {},
   "source": [
    "# How to plot DOSCAR.lobster:"
   ]
  },
  {
   "cell_type": "markdown",
   "metadata": {},
   "source": [
    "## get relevant classes"
   ]
  },
  {
   "cell_type": "code",
   "execution_count": null,
   "metadata": {},
   "outputs": [],
   "source": [
    "from pymatgen.core.composition import Element\n",
    "from pymatgen.electronic_structure.plotter import DosPlotter\n",
    "\n",
    "# relevant classes\n",
    "from pymatgen.io.lobster import Doscar\n",
    "\n",
    "%matplotlib inline"
   ]
  },
  {
   "cell_type": "markdown",
   "metadata": {},
   "source": [
    "## read in DOSCAR.lobster and get structure object for later"
   ]
  },
  {
   "cell_type": "code",
   "execution_count": null,
   "metadata": {},
   "outputs": [],
   "source": [
    "# read in DOSCAR.lobster\n",
    "doscar = Doscar(\n",
    "    doscar=\"lobster_data/GaAs/DOSCAR.lobster\", structure_file=\"lobster_data/GaAs/POSCAR\"\n",
    ")\n",
    "complete_dos = doscar.completedos\n",
    "# get structure object\n",
    "structure = complete_dos.structure"
   ]
  },
  {
   "cell_type": "markdown",
   "metadata": {},
   "source": [
    "## plot total density of states"
   ]
  },
  {
   "cell_type": "code",
   "execution_count": null,
   "metadata": {},
   "outputs": [],
   "source": [
    "# plot total dos\n",
    "Plotter = DosPlotter()\n",
    "Plotter.add_dos(\"Total Dos\", doscar.tdos)\n",
    "Plotter.get_plot().show()"
   ]
  },
  {
   "cell_type": "markdown",
   "metadata": {},
   "source": [
    "## plot DOS projected on s, p, and d orbitals for certain element"
   ]
  },
  {
   "cell_type": "code",
   "execution_count": null,
   "metadata": {},
   "outputs": [],
   "source": [
    "# plot DOS of s,p, and d orbitals for certain element\n",
    "Plotter = DosPlotter()\n",
    "el = Element(\"Ga\")\n",
    "Plotter.add_dos_dict(complete_dos.get_element_spd_dos(el=el))\n",
    "Plotter.get_plot().show()"
   ]
  },
  {
   "cell_type": "markdown",
   "metadata": {},
   "source": [
    "## plot DOS for cetain sites and orbitals"
   ]
  },
  {
   "cell_type": "code",
   "execution_count": null,
   "metadata": {},
   "outputs": [],
   "source": [
    "Plotter = DosPlotter()\n",
    "# choose the sites you would like to plot\n",
    "for isite, site in enumerate(structure[0:1]):\n",
    "    # name the orbitals you would like to include\n",
    "    # the other orbitals are named in a similar way. The orbitals are called: \"s\", \"p_y\", \"p_z\", \"p_x\", \"d_xy\", \"d_yz\", \"d_z^2\",\"d_xz\", \"d_x^2-y^2\", \"f_y(3x^2-y^2)\", \"f_xyz\",\"f_yz^2\", \"f_z^3\", \"f_xz^2\", \"f_z(x^2-y^2)\", \"f_x(x^2-3y^2)\"\n",
    "    for orbital in [\"4s\"]:\n",
    "        Plotter.add_dos(\n",
    "            \"Ga\" + str(isite + 1) + \":\" + orbital,\n",
    "            complete_dos.get_site_orbital_dos(site, orbital),\n",
    "        )\n",
    "Plotter.get_plot().show()"
   ]
  },
  {
   "cell_type": "markdown",
   "metadata": {},
   "source": [
    "# evaluate CHARGE.lobster "
   ]
  },
  {
   "cell_type": "markdown",
   "metadata": {},
   "source": [
    "## get relevant classes"
   ]
  },
  {
   "cell_type": "code",
   "execution_count": null,
   "metadata": {},
   "outputs": [],
   "source": [
    "from pymatgen.io.lobster import Charge"
   ]
  },
  {
   "cell_type": "markdown",
   "metadata": {},
   "source": [
    "## read in charge and produce a structure with the charge as a property"
   ]
  },
  {
   "cell_type": "code",
   "execution_count": null,
   "metadata": {},
   "outputs": [],
   "source": [
    "charge = Charge(filename=\"lobster_data/GaAs/CHARGE.lobster\")\n",
    "newstructure = charge.get_structure_with_charges(\n",
    "    structure_filename=\"lobster_data/GaAs/POSCAR\"\n",
    ")\n",
    "print(newstructure)"
   ]
  },
  {
   "cell_type": "markdown",
   "metadata": {},
   "source": [
    "# evaluate GROSSPOP.lobster"
   ]
  },
  {
   "cell_type": "markdown",
   "metadata": {},
   "source": [
    "## get relevant class"
   ]
  },
  {
   "cell_type": "code",
   "execution_count": null,
   "metadata": {},
   "outputs": [],
   "source": [
    "from pymatgen.io.lobster import Grosspop"
   ]
  },
  {
   "cell_type": "code",
   "execution_count": null,
   "metadata": {},
   "outputs": [],
   "source": [
    "grosspop = Grosspop(filename=\"lobster_data/GaAs/GROSSPOP.lobster\")\n",
    "print(grosspop.list_dict_grosspop)"
   ]
  },
  {
   "cell_type": "markdown",
   "metadata": {},
   "source": [
    "## get a structure with total gross populations"
   ]
  },
  {
   "cell_type": "code",
   "execution_count": null,
   "metadata": {},
   "outputs": [],
   "source": [
    "newstructure = grosspop.get_structure_with_total_grosspop(\"lobster_data/GaAs/POSCAR\")\n",
    "print(\"Structure:\")\n",
    "print(newstructure)"
   ]
  },
  {
   "cell_type": "markdown",
   "metadata": {},
   "source": [
    "# FATBAND plot"
   ]
  },
  {
   "cell_type": "markdown",
   "metadata": {},
   "source": [
    "## get relevant classes"
   ]
  },
  {
   "cell_type": "code",
   "execution_count": null,
   "metadata": {},
   "outputs": [],
   "source": [
    "from pymatgen.electronic_structure.plotter import BSDOSPlotter, BSPlotterProjected\n",
    "from pymatgen.io.lobster import Fatband"
   ]
  },
  {
   "cell_type": "markdown",
   "metadata": {},
   "source": [
    "## get a bandstructure plot that is combined with a DOS plot"
   ]
  },
  {
   "cell_type": "code",
   "execution_count": null,
   "metadata": {},
   "outputs": [],
   "source": [
    "fatband = Fatband(\n",
    "    filenames=\"lobster_data/GaAs\",\n",
    "    vasprun=\"lobster_data/GaAs/vasprun.xml\",\n",
    "    Kpointsfile=\"lobster_data/GaAs/KPOINTS\",\n",
    ")\n",
    "# get a band structure object\n",
    "bssymline = fatband.get_bandstructure()\n",
    "# print(bssymline.as_dict())\n",
    "\n",
    "# this can be plotted with the classes to plot bandstructures from vasp\n",
    "BSDOSPlotter(bs_projection=\"elements\", dos_projection=\"elements\").get_plot(\n",
    "    bs=bssymline, dos=complete_dos\n",
    ").show()"
   ]
  },
  {
   "cell_type": "code",
   "execution_count": null,
   "metadata": {},
   "outputs": [],
   "source": [
    "# another plot type from pymatgen:\n",
    "bsplotter = BSPlotterProjected(bssymline)\n",
    "bsplotter.get_projected_plots_dots(\n",
    "    {\"Ga\": [\"4s\", \"4p\", \"3d\"], \"As\": [\"4s\", \"4p\"]}\n",
    ").show()"
   ]
  },
  {
   "cell_type": "markdown",
   "metadata": {},
   "source": [
    "# Read lobsterout"
   ]
  },
  {
   "cell_type": "code",
   "execution_count": null,
   "metadata": {},
   "outputs": [],
   "source": [
    "from pymatgen.io.lobster import Lobsterout"
   ]
  },
  {
   "cell_type": "markdown",
   "metadata": {},
   "source": [
    "## get all relevant infos from lobsterout"
   ]
  },
  {
   "cell_type": "code",
   "execution_count": null,
   "metadata": {},
   "outputs": [],
   "source": [
    "lobsterout = Lobsterout(\"lobster_data/GaAs/lobsterout\")\n",
    "\n",
    "document = lobsterout.get_doc()"
   ]
  },
  {
   "cell_type": "markdown",
   "metadata": {},
   "source": [
    "## charge spilling can be accessed easily"
   ]
  },
  {
   "cell_type": "code",
   "execution_count": null,
   "metadata": {},
   "outputs": [],
   "source": [
    "print(document[\"chargespilling\"])"
   ]
  },
  {
   "cell_type": "markdown",
   "metadata": {},
   "source": [
    "# Create input files for vasp and lobster automatically"
   ]
  },
  {
   "cell_type": "markdown",
   "metadata": {},
   "source": [
    "## relevant classes"
   ]
  },
  {
   "cell_type": "code",
   "execution_count": null,
   "metadata": {},
   "outputs": [],
   "source": [
    "from pymatgen.io.lobster import Lobsterin"
   ]
  },
  {
   "cell_type": "markdown",
   "metadata": {},
   "source": [
    "## a Lobsterin object with standard settings is created, a standard basis is used"
   ]
  },
  {
   "cell_type": "code",
   "execution_count": null,
   "metadata": {},
   "outputs": [],
   "source": [
    "lobsterin = Lobsterin.standard_calculations_from_vasp_files(\n",
    "    \"lobster_data/GaAs/POSCAR\",\n",
    "    \"lobster_data/GaAs/INCAR\",\n",
    "    \"lobster_data/GaAs/POTCAR\",\n",
    "    option=\"standard\",\n",
    ")"
   ]
  },
  {
   "cell_type": "markdown",
   "metadata": {},
   "source": [
    "## writes lobsterin"
   ]
  },
  {
   "cell_type": "code",
   "execution_count": null,
   "metadata": {},
   "outputs": [],
   "source": [
    "lobsterin.write_lobsterin(path=\"lobsterin\")\n",
    "file = open(\"./lobsterin\")\n",
    "print(file.read())"
   ]
  },
  {
   "cell_type": "markdown",
   "metadata": {},
   "source": [
    "## will change ISYM to -1, NSW to 0, insert NBANDS, and set LWAVE to True in the INCAR\n",
    "## additional changes to the INCAR are allowed via further_settings"
   ]
  },
  {
   "cell_type": "code",
   "execution_count": null,
   "metadata": {},
   "outputs": [],
   "source": [
    "lobsterin.write_INCAR(\n",
    "    incar_input=\"lobster_data/GaAs/INCAR\",\n",
    "    incar_output=\"INCAR.lobster\",\n",
    "    poscar_input=\"lobster_data/GaAs/POSCAR\",\n",
    "    isym=-1,\n",
    "    further_settings={\"IBRION\": -1},\n",
    ")\n",
    "file = open(\"./INCAR.lobster\")\n",
    "print(file.read())"
   ]
  },
  {
   "cell_type": "markdown",
   "metadata": {},
   "source": [
    "## a Lobsterin object with standard settings is created, a basis given by the user is used"
   ]
  },
  {
   "cell_type": "code",
   "execution_count": null,
   "metadata": {},
   "outputs": [],
   "source": [
    "lobsterin = Lobsterin.standard_calculations_from_vasp_files(\n",
    "    \"lobster_data/GaAs/POSCAR\",\n",
    "    \"lobster_data/GaAs/INCAR\",\n",
    "    \"lobster_data/GaAs/POTCAR\",\n",
    "    option=\"standard\",\n",
    "    dict_for_basis={\"Ga\": \"4s 4p\", \"As\": \"4s 4p\"},\n",
    ")\n",
    "\n",
    "# writes lobsterin\n",
    "lobsterin.write_lobsterin(path=\"lobsterin\")\n",
    "file = open(\"./lobsterin\")\n",
    "print(file.read())"
   ]
  }
 ],
 "metadata": {
  "kernelspec": {
   "display_name": "pmg",
   "language": "python",
   "name": "python3"
  },
  "language_info": {
   "codemirror_mode": {
    "name": "ipython",
    "version": 3
   },
   "file_extension": ".py",
   "mimetype": "text/x-python",
   "name": "python",
   "nbconvert_exporter": "python",
   "pygments_lexer": "ipython3",
   "version": "3.12.0"
  }
 },
 "nbformat": 4,
 "nbformat_minor": 2
}
