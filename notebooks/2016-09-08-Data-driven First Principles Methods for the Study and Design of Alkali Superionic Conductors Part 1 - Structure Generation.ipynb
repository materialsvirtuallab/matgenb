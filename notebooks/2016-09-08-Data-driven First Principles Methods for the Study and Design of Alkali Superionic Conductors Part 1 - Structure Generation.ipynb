{
 "cells": [
  {
   "cell_type": "markdown",
   "metadata": {},
   "source": [
    "# Introduction\n",
    "\n",
    "This notebook demonstrates how to perform structure enumeration using Python Materials Genomics (pymatgen). These notebooks are described in detail in\n",
    "\n",
    "    Deng, Z.; Zhu, Z.; Chu, I.-H.; Ong, S. P. Data-Driven First-Principles Methods for the Study and Design of \n",
    "    Alkali Superionic Conductors. Chem. Mater. 2017, 29 (1), 281–288 DOI: 10.1021/acs.chemmater.6b02648.\n",
    "    \n",
    "If you find these notebooks useful and use the functionality demonstrated, please consider citing the above work.\n",
    "\n",
    "Let's start by importing some modules and classes that we will be using."
   ]
  },
  {
   "cell_type": "code",
   "execution_count": null,
   "metadata": {},
   "outputs": [],
   "source": [
    "# Uncomment the subsequent lines in this cell to install dependencies for Google Colab.\n",
    "# !pip install -U pymatgen"
   ]
  },
  {
   "cell_type": "code",
   "execution_count": null,
   "metadata": {},
   "outputs": [],
   "source": [
    "from pymatgen.core import Structure\n",
    "from pymatgen.io.vasp.sets import MPRelaxSet, batch_write_input\n",
    "from pymatgen.symmetry.analyzer import SpacegroupAnalyzer\n",
    "from pymatgen.transformations.advanced_transformations import (\n",
    "    EnumerateStructureTransformation,\n",
    ")"
   ]
  },
  {
   "cell_type": "markdown",
   "metadata": {},
   "source": [
    "# Preparation\n",
    "\n",
    "We will first read in the structure from crystallographic information file (CIF) found in ICSD."
   ]
  },
  {
   "cell_type": "code",
   "execution_count": null,
   "metadata": {},
   "outputs": [
    {
     "name": "stdout",
     "output_type": "stream",
     "text": [
      "Full Formula (Li26.88 P4 S20 Cl4)\n",
      "Reduced Formula: Li26.88P4S20Cl4\n",
      "abc   :   9.859000   9.859000   9.859000\n",
      "angles:  90.000000  90.000000  90.000000\n",
      "Sites (76)\n",
      "  #  SP               a        b        c\n",
      "---  ---------  -------  -------  -------\n",
      "  0  Li+:0.560  0.3148   0.982    0.3148\n",
      "  1  Li+:0.560  0.982    0.6852   0.6852\n",
      "  2  Li+:0.560  0.6852   0.3148   0.018\n",
      "  3  Li+:0.560  0.3148   0.6852   0.018\n",
      "  4  Li+:0.560  0.982    0.3148   0.3148\n",
      "  5  Li+:0.560  0.6852   0.982    0.6852\n",
      "  6  Li+:0.560  0.3148   0.018    0.6852\n",
      "  7  Li+:0.560  0.6852   0.6852   0.982\n",
      "  8  Li+:0.560  0.3148   0.3148   0.982\n",
      "  9  Li+:0.560  0.6852   0.018    0.3148\n",
      " 10  Li+:0.560  0.018    0.6852   0.3148\n",
      " 11  Li+:0.560  0.018    0.3148   0.6852\n",
      " 12  Li+:0.560  0.3148   0.482    0.8148\n",
      " 13  Li+:0.560  0.982    0.1852   0.1852\n",
      " 14  Li+:0.560  0.6852   0.8148   0.518\n",
      " 15  Li+:0.560  0.3148   0.1852   0.518\n",
      " 16  Li+:0.560  0.982    0.8148   0.8148\n",
      " 17  Li+:0.560  0.6852   0.482    0.1852\n",
      " 18  Li+:0.560  0.3148   0.518    0.1852\n",
      " 19  Li+:0.560  0.6852   0.1852   0.482\n",
      " 20  Li+:0.560  0.3148   0.8148   0.482\n",
      " 21  Li+:0.560  0.6852   0.518    0.8148\n",
      " 22  Li+:0.560  0.018    0.1852   0.8148\n",
      " 23  Li+:0.560  0.018    0.8148   0.1852\n",
      " 24  Li+:0.560  0.8148   0.982    0.8148\n",
      " 25  Li+:0.560  0.482    0.6852   0.1852\n",
      " 26  Li+:0.560  0.1852   0.3148   0.518\n",
      " 27  Li+:0.560  0.8148   0.6852   0.518\n",
      " 28  Li+:0.560  0.482    0.3148   0.8148\n",
      " 29  Li+:0.560  0.1852   0.982    0.1852\n",
      " 30  Li+:0.560  0.8148   0.018    0.1852\n",
      " 31  Li+:0.560  0.1852   0.6852   0.482\n",
      " 32  Li+:0.560  0.8148   0.3148   0.482\n",
      " 33  Li+:0.560  0.1852   0.018    0.8148\n",
      " 34  Li+:0.560  0.518    0.6852   0.8148\n",
      " 35  Li+:0.560  0.518    0.3148   0.1852\n",
      " 36  Li+:0.560  0.8148   0.482    0.3148\n",
      " 37  Li+:0.560  0.482    0.1852   0.6852\n",
      " 38  Li+:0.560  0.1852   0.8148   0.018\n",
      " 39  Li+:0.560  0.8148   0.1852   0.018\n",
      " 40  Li+:0.560  0.482    0.8148   0.3148\n",
      " 41  Li+:0.560  0.1852   0.482    0.6852\n",
      " 42  Li+:0.560  0.8148   0.518    0.6852\n",
      " 43  Li+:0.560  0.1852   0.1852   0.982\n",
      " 44  Li+:0.560  0.8148   0.8148   0.982\n",
      " 45  Li+:0.560  0.1852   0.518    0.3148\n",
      " 46  Li+:0.560  0.518    0.1852   0.3148\n",
      " 47  Li+:0.560  0.518    0.8148   0.6852\n",
      " 48  P5+        0.5      0        0\n",
      " 49  P5+        0        0        0.5\n",
      " 50  P5+        0        0.5      0\n",
      " 51  P5+        0.5      0.5      0.5\n",
      " 52  S2-        0.25     0.75     0.25\n",
      " 53  S2-        0.75     0.75     0.75\n",
      " 54  S2-        0.75     0.25     0.25\n",
      " 55  S2-        0.25     0.25     0.75\n",
      " 56  S2-        0.38053  0.11947  0.11947\n",
      " 57  S2-        0.11947  0.88053  0.61947\n",
      " 58  S2-        0.88053  0.38053  0.88053\n",
      " 59  S2-        0.38053  0.88053  0.88053\n",
      " 60  S2-        0.11947  0.38053  0.11947\n",
      " 61  S2-        0.88053  0.11947  0.61947\n",
      " 62  S2-        0.11947  0.11947  0.38053\n",
      " 63  S2-        0.88053  0.61947  0.11947\n",
      " 64  S2-        0.11947  0.61947  0.88053\n",
      " 65  S2-        0.88053  0.88053  0.38053\n",
      " 66  S2-        0.61947  0.11947  0.88053\n",
      " 67  S2-        0.61947  0.88053  0.11947\n",
      " 68  S2-        0.38053  0.61947  0.61947\n",
      " 69  S2-        0.38053  0.38053  0.38053\n",
      " 70  S2-        0.61947  0.61947  0.38053\n",
      " 71  S2-        0.61947  0.38053  0.61947\n",
      " 72  Cl-        0        0        0\n",
      " 73  Cl-        0        0.5      0.5\n",
      " 74  Cl-        0.5      0        0.5\n",
      " 75  Cl-        0.5      0.5      0\n"
     ]
    }
   ],
   "source": [
    "structure = Structure.from_file(\"aimd_data/EntryWithCollCode418490.cif\")\n",
    "print(structure)"
   ]
  },
  {
   "cell_type": "markdown",
   "metadata": {},
   "source": [
    "From the above, we see that the reported experimental structure has Li disorder. The occupancy of Li is higher than what would be expected for a Li6PS5Cl nominal composition. We will first adjust the composition by setting the Li occupancies to 0.5 to obtain stoichiometric charge-balanced Li6PS5Cl."
   ]
  },
  {
   "cell_type": "code",
   "execution_count": null,
   "metadata": {},
   "outputs": [
    {
     "name": "stdout",
     "output_type": "stream",
     "text": [
      "The composition after adjustments is Li6PS5Cl.\n"
     ]
    }
   ],
   "source": [
    "# loop over all sites in the structure\n",
    "for i, site in enumerate(structure):\n",
    "    # change the occupancy of Li+ disordered sites to 0.5\n",
    "    if not site.is_ordered:\n",
    "        structure[i] = {\"Li+\": 0.5}\n",
    "print(\n",
    "    \"The composition after adjustments is %s.\" % structure.composition.reduced_formula\n",
    ")"
   ]
  },
  {
   "cell_type": "markdown",
   "metadata": {},
   "source": [
    "To keep the number of orderings manageable, we will perform enumeration only on the primitive cell. The primitive cell can be obtained using the *SpacegroupAnalyzer*."
   ]
  },
  {
   "cell_type": "code",
   "execution_count": null,
   "metadata": {},
   "outputs": [
    {
     "name": "stdout",
     "output_type": "stream",
     "text": [
      "Full Formula (Li6 P1 S5 Cl1)\n",
      "Reduced Formula: Li6PS5Cl\n",
      "abc   :   6.971366   6.971366   6.971366\n",
      "angles:  60.000000  60.000000  60.000000\n",
      "Sites (19)\n",
      "  #  SP               a        b        c\n",
      "---  ---------  -------  -------  -------\n",
      "  0  Li+:0.500  0.3616   0.768    0.768\n",
      "  1  Li+:0.500  0.1024   0.768    0.3616\n",
      "  2  Li+:0.500  0.768    0.768    0.1024\n",
      "  3  Li+:0.500  0.768    0.768    0.3616\n",
      "  4  Li+:0.500  0.3616   0.768    0.1024\n",
      "  5  Li+:0.500  0.1024   0.768    0.768\n",
      "  6  Li+:0.500  0.768    0.1024   0.3616\n",
      "  7  Li+:0.500  0.1024   0.3616   0.768\n",
      "  8  Li+:0.500  0.3616   0.1024   0.768\n",
      "  9  Li+:0.500  0.768    0.3616   0.1024\n",
      " 10  Li+:0.500  0.768    0.3616   0.768\n",
      " 11  Li+:0.500  0.768    0.1024   0.768\n",
      " 12  P5+        0.25     0.25     0.25\n",
      " 13  S2-        0        0        0\n",
      " 14  S2-        0.36947  0.36947  0.89159\n",
      " 15  S2-        0.36947  0.36947  0.36947\n",
      " 16  S2-        0.89159  0.36947  0.36947\n",
      " 17  S2-        0.36947  0.89159  0.36947\n",
      " 18  Cl-        0.75     0.75     0.75\n"
     ]
    }
   ],
   "source": [
    "analyzer = SpacegroupAnalyzer(structure)\n",
    "prim_cell = analyzer.find_primitive()\n",
    "print(prim_cell)"
   ]
  },
  {
   "cell_type": "markdown",
   "metadata": {},
   "source": [
    "# Enumerate structures using enumlib\n",
    "\n",
    "We will use the *EnumerateStructureTransformation* class to enumerate all symmetrically distinct structures. *EnumerateStructureTransformation* is a user-friendly wrapper around enumlib, a fortran library to generate derivative structures written by Hart et al."
   ]
  },
  {
   "cell_type": "code",
   "execution_count": null,
   "metadata": {},
   "outputs": [
    {
     "name": "stdout",
     "output_type": "stream",
     "text": [
      "48 structures returned.\n"
     ]
    }
   ],
   "source": [
    "enum = EnumerateStructureTransformation()\n",
    "enumerated = enum.apply_transformation(\n",
    "    prim_cell, 100\n",
    ")  # return no more than 100 structures\n",
    "structures = [d[\"structure\"] for d in enumerated]\n",
    "print(\"%d structures returned.\" % len(structures))"
   ]
  },
  {
   "cell_type": "markdown",
   "metadata": {},
   "source": [
    "# VASP input generation\n",
    "\n",
    "Pymatgen has useful classes for batch generating VASP input files that use parameters that are compatible with those used in the Materials Project. These parameters have been well-tested over a large database of structures in different chemistries. Using the same parameters also allow the energies computed to be compared with those in the Materials Project database for phase stability and other analyses."
   ]
  },
  {
   "cell_type": "code",
   "execution_count": null,
   "metadata": {},
   "outputs": [],
   "source": [
    "batch_write_input(\n",
    "    structures, vasp_input_set=MPRelaxSet, output_dir=\"Li6PS5Cl_orderings\"\n",
    ")"
   ]
  }
 ],
 "metadata": {
  "kernelspec": {
   "display_name": "Python 3 (ipykernel)",
   "language": "python",
   "name": "python3"
  },
  "language_info": {
   "codemirror_mode": {
    "name": "ipython",
    "version": 3
   },
   "file_extension": ".py",
   "mimetype": "text/x-python",
   "name": "python",
   "nbconvert_exporter": "python",
   "pygments_lexer": "ipython3",
   "version": "3.9.12"
  }
 },
 "nbformat": 4,
 "nbformat_minor": 1
}
