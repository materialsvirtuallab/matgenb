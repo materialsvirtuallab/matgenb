{
 "cells": [
  {
   "cell_type": "markdown",
   "metadata": {},
   "source": [
    "# How to plot a Fermi surface"
   ]
  },
  {
   "cell_type": "markdown",
   "metadata": {},
   "source": [
    "## Using BoltzTraP v1"
   ]
  },
  {
   "cell_type": "markdown",
   "metadata": {},
   "source": [
    "### PbTe mp-19717"
   ]
  },
  {
   "cell_type": "code",
   "execution_count": null,
   "metadata": {},
   "outputs": [],
   "source": [
    "# Uncomment the subsequent lines in this cell to install dependencies for Google Colab.\n",
    "# !pip install -U pymatgen"
   ]
  },
  {
   "cell_type": "code",
   "execution_count": null,
   "metadata": {},
   "outputs": [],
   "source": [
    "import os\n",
    "\n",
    "from pymatgen.electronic_structure.boltztrap import BoltztrapRunner\n",
    "from pymatgen.electronic_structure.core import Spin\n",
    "from pymatgen.electronic_structure.plotter import plot_fermi_surface\n",
    "from pymatgen.io.vasp.outputs import Vasprun\n",
    "from pymatgen.symmetry.bandstructure import HighSymmKpath"
   ]
  },
  {
   "cell_type": "code",
   "execution_count": null,
   "metadata": {},
   "outputs": [
    {
     "name": "stderr",
     "output_type": "stream",
     "text": [
      "/Users/shyue/miniconda3/envs/mavrl/lib/python3.11/site-packages/pymatgen/io/vasp/outputs.py:1122: UserWarning: No POTCAR file with matching TITEL fields was found in\n",
      "\n",
      "  warnings.warn(\"No POTCAR file with matching TITEL fields was found in\\n\" + \"\\n  \".join(potcar_paths))\n"
     ]
    }
   ],
   "source": [
    "vrun = Vasprun(\"boltztrap2_data/vasprun-PbTe_uniform_bs.xml\")\n",
    "bs = vrun.get_band_structure()\n",
    "nelect = vrun.parameters[\"NELECT\"]"
   ]
  },
  {
   "cell_type": "markdown",
   "metadata": {},
   "source": [
    "#### VBM "
   ]
  },
  {
   "cell_type": "code",
   "execution_count": null,
   "metadata": {},
   "outputs": [],
   "source": [
    "# specify here the band index you need, in this example the vbm is taken\n",
    "vbm = bs.get_vbm()[\"band_index\"][Spin.up][-1]"
   ]
  },
  {
   "cell_type": "code",
   "execution_count": null,
   "metadata": {},
   "outputs": [
    {
     "ename": "RuntimeError",
     "evalue": "BoltztrapRunner requires the executables 'x_trans' to be in PATH. Please download Boltztrap at http://www.icams.de/content/research/software-development/boltztrap/ and follow the instructions in the README to compile Bolztrap accordingly. Then add x_trans to your path",
     "output_type": "error",
     "traceback": [
      "\u001b[0;31m---------------------------------------------------------------------------\u001b[0m",
      "\u001b[0;31mRuntimeError\u001b[0m                              Traceback (most recent call last)",
      "Cell \u001b[0;32mIn[5], line 5\u001b[0m\n\u001b[1;32m      2\u001b[0m os\u001b[38;5;241m.\u001b[39mmakedirs(\u001b[38;5;124m\"\u001b[39m\u001b[38;5;124mfermi/vbm/\u001b[39m\u001b[38;5;124m\"\u001b[39m, exist_ok\u001b[38;5;241m=\u001b[39m\u001b[38;5;28;01mTrue\u001b[39;00m)\n\u001b[1;32m      4\u001b[0m \u001b[38;5;66;03m# run the interpolation, lpfac should be between 50 and 150\u001b[39;00m\n\u001b[0;32m----> 5\u001b[0m \u001b[43mBoltztrapRunner\u001b[49m\u001b[43m(\u001b[49m\n\u001b[1;32m      6\u001b[0m \u001b[43m    \u001b[49m\u001b[43mbs\u001b[49m\u001b[38;5;241;43m=\u001b[39;49m\u001b[43mbs\u001b[49m\u001b[43m,\u001b[49m\u001b[43m \u001b[49m\u001b[43mnelec\u001b[49m\u001b[38;5;241;43m=\u001b[39;49m\u001b[43mnelect\u001b[49m\u001b[43m,\u001b[49m\u001b[43m \u001b[49m\u001b[43mlpfac\u001b[49m\u001b[38;5;241;43m=\u001b[39;49m\u001b[38;5;241;43m10\u001b[39;49m\u001b[43m,\u001b[49m\u001b[43m \u001b[49m\u001b[43mrun_type\u001b[49m\u001b[38;5;241;43m=\u001b[39;49m\u001b[38;5;124;43m\"\u001b[39;49m\u001b[38;5;124;43mFERMI\u001b[39;49m\u001b[38;5;124;43m\"\u001b[39;49m\u001b[43m,\u001b[49m\u001b[43m \u001b[49m\u001b[43mband_nb\u001b[49m\u001b[38;5;241;43m=\u001b[39;49m\u001b[43mvbm\u001b[49m\u001b[43m,\u001b[49m\u001b[43m \u001b[49m\u001b[43mcond_band\u001b[49m\u001b[38;5;241;43m=\u001b[39;49m\u001b[38;5;28;43;01mFalse\u001b[39;49;00m\n\u001b[1;32m      7\u001b[0m \u001b[43m)\u001b[49m\u001b[38;5;241m.\u001b[39mrun(path_dir\u001b[38;5;241m=\u001b[39m\u001b[38;5;124m\"\u001b[39m\u001b[38;5;124mfermi/vbm/\u001b[39m\u001b[38;5;124m\"\u001b[39m)\n\u001b[1;32m      9\u001b[0m \u001b[38;5;66;03m# read the output\u001b[39;00m\n\u001b[1;32m     10\u001b[0m an \u001b[38;5;241m=\u001b[39m BoltztrapAnalyzer\u001b[38;5;241m.\u001b[39mfrom_files(\u001b[38;5;124m\"\u001b[39m\u001b[38;5;124mfermi/vbm/boltztrap/\u001b[39m\u001b[38;5;124m\"\u001b[39m)\n",
      "File \u001b[0;32m~/miniconda3/envs/mavrl/lib/python3.11/site-packages/monty/dev.py:199\u001b[0m, in \u001b[0;36mrequires.__call__.<locals>.decorated\u001b[0;34m(*args, **kwargs)\u001b[0m\n\u001b[1;32m    196\u001b[0m \u001b[38;5;129m@functools\u001b[39m\u001b[38;5;241m.\u001b[39mwraps(_callable)\n\u001b[1;32m    197\u001b[0m \u001b[38;5;28;01mdef\u001b[39;00m \u001b[38;5;21mdecorated\u001b[39m(\u001b[38;5;241m*\u001b[39margs, \u001b[38;5;241m*\u001b[39m\u001b[38;5;241m*\u001b[39mkwargs):\n\u001b[1;32m    198\u001b[0m     \u001b[38;5;28;01mif\u001b[39;00m \u001b[38;5;129;01mnot\u001b[39;00m \u001b[38;5;28mself\u001b[39m\u001b[38;5;241m.\u001b[39mcondition:\n\u001b[0;32m--> 199\u001b[0m         \u001b[38;5;28;01mraise\u001b[39;00m \u001b[38;5;28mself\u001b[39m\u001b[38;5;241m.\u001b[39merr_cls(\u001b[38;5;28mself\u001b[39m\u001b[38;5;241m.\u001b[39mmessage)\n\u001b[1;32m    200\u001b[0m     \u001b[38;5;28;01mreturn\u001b[39;00m _callable(\u001b[38;5;241m*\u001b[39margs, \u001b[38;5;241m*\u001b[39m\u001b[38;5;241m*\u001b[39mkwargs)\n",
      "\u001b[0;31mRuntimeError\u001b[0m: BoltztrapRunner requires the executables 'x_trans' to be in PATH. Please download Boltztrap at http://www.icams.de/content/research/software-development/boltztrap/ and follow the instructions in the README to compile Bolztrap accordingly. Then add x_trans to your path"
     ]
    }
   ],
   "source": [
    "# create the directory \"fermi/vbm\" before\n",
    "os.makedirs(\"fermi/vbm/\", exist_ok=True)\n",
    "\n",
    "# run the interpolation, lpfac should be between 50 and 150\n",
    "BoltztrapRunner(\n",
    "    bs=bs, nelec=nelect, lpfac=10, run_type=\"FERMI\", band_nb=vbm, cond_band=False\n",
    ").run(path_dir=\"fermi/vbm/\")\n",
    "\n",
    "# read the output\n",
    "an = BoltztrapAnalyzer.from_files(\"fermi/vbm/boltztrap/\")"
   ]
  },
  {
   "cell_type": "code",
   "execution_count": null,
   "metadata": {},
   "outputs": [],
   "source": [
    "# prepare high symmetry points labels\n",
    "st = vrun.final_structure\n",
    "kpoints_dict = HighSymmKpath(st).kpath[\"kpoints\"]"
   ]
  },
  {
   "cell_type": "code",
   "execution_count": null,
   "metadata": {},
   "outputs": [],
   "source": [
    "# edit or generete a dict like this one to pass the kpoint labels and frac coords you want to plot\n",
    "kpoints_dict"
   ]
  },
  {
   "cell_type": "code",
   "execution_count": null,
   "metadata": {},
   "outputs": [],
   "source": [
    "an.fermi_surface_data.max()"
   ]
  },
  {
   "cell_type": "code",
   "execution_count": null,
   "metadata": {},
   "outputs": [],
   "source": [
    "# plot the surface in an external window\n",
    "# vbm is set at 0 eV, so we set an energy level of 0.05 below the vbm\n",
    "plot_fermi_surface(\n",
    "    an.fermi_surface_data,\n",
    "    bs.structure,\n",
    "    cbm=False,\n",
    "    energy_levels=[-0.05],\n",
    "    kpoints_dict=kpoints_dict,\n",
    "    labels_scale_factor=0.1,\n",
    ")"
   ]
  },
  {
   "cell_type": "markdown",
   "metadata": {},
   "source": [
    "![Fermi surface of vbm for PbTe](boltztrap2_data/fermi_surface_vbm_PbTe.png)"
   ]
  },
  {
   "cell_type": "markdown",
   "metadata": {},
   "source": [
    "#### CBM"
   ]
  },
  {
   "cell_type": "code",
   "execution_count": null,
   "metadata": {},
   "outputs": [],
   "source": [
    "# specify here another band index you need, in this example the cbm is taken\n",
    "cbm = bs.get_cbm()[\"band_index\"][Spin.up][0]"
   ]
  },
  {
   "cell_type": "code",
   "execution_count": null,
   "metadata": {},
   "outputs": [],
   "source": [
    "# create the directory \"fermi/cbm\" before\n",
    "os.makedirs(\"fermi/cbm/\", exist_ok=True)\n",
    "\n",
    "# run the interpolation, lpfac should be between 50 and 150\n",
    "BoltztrapRunner(\n",
    "    bs=bs, nelec=nelect, lpfac=10, run_type=\"FERMI\", band_nb=cbm, cond_band=True\n",
    ").run(path_dir=\"fermi/cbm/\")\n",
    "\n",
    "# read the output\n",
    "an = BoltztrapAnalyzer.from_files(\"fermi/cbm/boltztrap/\")"
   ]
  },
  {
   "cell_type": "code",
   "execution_count": null,
   "metadata": {},
   "outputs": [],
   "source": [
    "an.fermi_surface_data.max()"
   ]
  },
  {
   "cell_type": "code",
   "execution_count": null,
   "metadata": {},
   "outputs": [],
   "source": [
    "# plot the surface in an external window\n",
    "# cbm is at ~0.83 eV, so we set an energy level of 0.07 above the cbm\n",
    "\n",
    "plot_fermi_surface(\n",
    "    an.fermi_surface_data,\n",
    "    bs.structure,\n",
    "    cbm=True,\n",
    "    energy_levels=[0.9],\n",
    "    kpoints_dict=kpoints_dict,\n",
    "    labels_scale_factor=0.1,\n",
    ")"
   ]
  },
  {
   "cell_type": "markdown",
   "metadata": {},
   "source": [
    "![Fermi surface of cbm for PbTe](boltztrap2_data/fermi_surface_cbm_PbTe.png)"
   ]
  },
  {
   "cell_type": "markdown",
   "metadata": {},
   "source": [
    "### AlAs mp-2172\n",
    "Example of how to plot multiple surfaces in the same figure"
   ]
  },
  {
   "cell_type": "code",
   "execution_count": null,
   "metadata": {},
   "outputs": [],
   "source": [
    "vrun = Vasprun(\"boltztrap2_data/vasprun_AlAs.xml.gz\")\n",
    "bs = vrun.get_band_structure()\n",
    "nelect = vrun.parameters[\"NELECT\"]"
   ]
  },
  {
   "cell_type": "code",
   "execution_count": null,
   "metadata": {},
   "outputs": [],
   "source": [
    "cbm = bs.get_cbm()[\"band_index\"][Spin.up][0]\n",
    "vb1 = bs.get_vbm()[\"band_index\"][Spin.up][-1]\n",
    "vb2 = bs.get_vbm()[\"band_index\"][Spin.up][-2]\n",
    "vb3 = bs.get_vbm()[\"band_index\"][Spin.up][-3]"
   ]
  },
  {
   "cell_type": "code",
   "execution_count": null,
   "metadata": {},
   "outputs": [],
   "source": [
    "cbm, vb1, vb2, vb3"
   ]
  },
  {
   "cell_type": "code",
   "execution_count": null,
   "metadata": {},
   "outputs": [],
   "source": [
    "st = vrun.final_structure\n",
    "kpoints_dict = HighSymmKpath(st).kpath[\"kpoints\"]"
   ]
  },
  {
   "cell_type": "code",
   "execution_count": null,
   "metadata": {},
   "outputs": [],
   "source": [
    "kpoints_dict"
   ]
  },
  {
   "cell_type": "markdown",
   "metadata": {},
   "source": [
    "#### CBM"
   ]
  },
  {
   "cell_type": "code",
   "execution_count": null,
   "metadata": {},
   "outputs": [],
   "source": [
    "os.makedirs(\"fermi/cbm/\", exist_ok=True)\n",
    "\n",
    "# run the interpolation, lpfac should be between 50 and 150\n",
    "BoltztrapRunner(\n",
    "    bs=bs, nelec=nelect, lpfac=5, run_type=\"FERMI\", band_nb=cbm, cond_band=True\n",
    ").run(path_dir=\"fermi/cbm/\")\n",
    "\n",
    "# read the output\n",
    "an = BoltztrapAnalyzer.from_files(\"fermi/cbm/boltztrap/\")\n",
    "\n",
    "# plot the fermi surface and get the figure object\n",
    "fig, mlab = plot_fermi_surface(\n",
    "    an.fermi_surface_data,\n",
    "    bs.structure,\n",
    "    cbm=True,\n",
    "    energy_levels=[1.55],\n",
    "    kpoints_dict=kpoints_dict,\n",
    "    labels_scale_factor=0.1,\n",
    "    interative=False,\n",
    "    multiple_figure=False,\n",
    "    color=(1, 0, 0),\n",
    ")"
   ]
  },
  {
   "cell_type": "markdown",
   "metadata": {},
   "source": [
    "#### First three vb"
   ]
  },
  {
   "cell_type": "code",
   "execution_count": null,
   "metadata": {},
   "outputs": [],
   "source": [
    "for vb, tf in zip((vb1, vb2, vb3), (0.2, 0.4, 1)):\n",
    "    os.makedirs(f\"fermi/vb_{vb}\", exist_ok=True)\n",
    "    # run the interpolation, lpfac should be between 50 and 150\n",
    "    BoltztrapRunner(\n",
    "        bs=bs, nelec=nelect, lpfac=50, run_type=\"FERMI\", band_nb=vb, cond_band=False\n",
    "    ).run(path_dir=f\"fermi/vb_{vb}/\")\n",
    "\n",
    "    # read the output\n",
    "    an = BoltztrapAnalyzer.from_files(f\"fermi/vb_{vb}/boltztrap/\")\n",
    "\n",
    "    # plot the fermi surface in the previous figure object\n",
    "    fig, mlab = plot_fermi_surface(\n",
    "        an.fermi_surface_data,\n",
    "        bs.structure,\n",
    "        cbm=False,\n",
    "        energy_levels=[-0.07],\n",
    "        kpoints_dict=kpoints_dict,\n",
    "        labels_scale_factor=0.1,\n",
    "        interative=False,\n",
    "        mlab_figure=fig,\n",
    "        multiple_figure=False,\n",
    "        transparency_factor=[tf],\n",
    "    )\n",
    "mlab.show()"
   ]
  },
  {
   "cell_type": "markdown",
   "metadata": {},
   "source": [
    "![Fermi surface of first 3 vbs and cbm for PbTe](boltztrap2_data/fermi_surface_vb_cb_AlAs.png)"
   ]
  },
  {
   "cell_type": "markdown",
   "metadata": {},
   "source": [
    "# In case of a cube file from other software"
   ]
  },
  {
   "cell_type": "code",
   "execution_count": null,
   "metadata": {},
   "outputs": [],
   "source": [
    "from pymatgen.electronic_structure.boltztrap import read_cube_file\n",
    "\n",
    "# decompress boltztrap_BZ.cube.gz before running the following\n",
    "fs_data = read_cube_file(\"boltztrap2_data/boltztrap_BZ.cube\")\n",
    "st = Vasprun(\"boltztrap2_data/vasprun_mp-12103.xml.gz\").final_structure\n",
    "kpoints_dict = HighSymmKpath(st).kpath[\"kpoints\"]"
   ]
  },
  {
   "cell_type": "code",
   "execution_count": null,
   "metadata": {},
   "outputs": [],
   "source": [
    "plot_fermi_surface(\n",
    "    fs_data,\n",
    "    st,\n",
    "    cbm=True,\n",
    "    kpoints_dict=kpoints_dict,\n",
    "    labels_scale_factor=0.1,\n",
    "    color=(1, 0, 0),\n",
    ")"
   ]
  },
  {
   "cell_type": "markdown",
   "metadata": {},
   "source": [
    "![Fermi surface of cbm for N2](boltztrap2_data/fermi_surface_cbm_mp-12103.png)"
   ]
  },
  {
   "cell_type": "markdown",
   "metadata": {},
   "source": [
    "## Using BoltzTraP 2 pymatgen interface"
   ]
  },
  {
   "cell_type": "code",
   "execution_count": null,
   "metadata": {},
   "outputs": [],
   "source": [
    "from pymatgen.electronic_structure.boltztrap2 import BztInterpolator, VasprunBSLoader"
   ]
  },
  {
   "cell_type": "code",
   "execution_count": null,
   "metadata": {},
   "outputs": [],
   "source": [
    "vrun = Vasprun(\"boltztrap2_data/vasprun-PbTe_uniform_bs.xml\")\n",
    "bs = vrun.get_band_structure()\n",
    "nelect = vrun.parameters[\"NELECT\"]"
   ]
  },
  {
   "cell_type": "code",
   "execution_count": null,
   "metadata": {},
   "outputs": [],
   "source": [
    "data = VasprunBSLoader(vrun)"
   ]
  },
  {
   "cell_type": "code",
   "execution_count": null,
   "metadata": {},
   "outputs": [],
   "source": [
    "bztI = BztInterpolator(data, lpfac=10)"
   ]
  },
  {
   "cell_type": "code",
   "execution_count": null,
   "metadata": {},
   "outputs": [],
   "source": [
    "bztI.eband.shape"
   ]
  },
  {
   "cell_type": "code",
   "execution_count": null,
   "metadata": {},
   "outputs": [],
   "source": [
    "from BoltzTraP2 import fermisurface"
   ]
  },
  {
   "cell_type": "code",
   "execution_count": null,
   "metadata": {},
   "outputs": [],
   "source": [
    "# with 2:3 we get the index of the vb, mu is in Ha\n",
    "fermisurface.plot_fermisurface(data, bztI.equivalences, bztI.eband[2:3, :], mu=-0.003)"
   ]
  },
  {
   "cell_type": "markdown",
   "metadata": {},
   "source": [
    "![Fermi surface of vbm for PbTe](boltztrap2_data/fermi_surface_vbm_PbTe_bzt2.png)"
   ]
  }
 ],
 "metadata": {
  "kernelspec": {
   "display_name": "Python 3 (ipykernel)",
   "language": "python",
   "name": "python3"
  },
  "language_info": {
   "codemirror_mode": {
    "name": "ipython",
    "version": 3
   },
   "file_extension": ".py",
   "mimetype": "text/x-python",
   "name": "python",
   "nbconvert_exporter": "python",
   "pygments_lexer": "ipython3",
   "version": "3.11.5"
  },
  "vscode": {
   "interpreter": {
    "hash": "8022b3e932e045c760cb4633b91dd1cb8bc60d104ca9808334cbd1645adbe837"
   }
  }
 },
 "nbformat": 4,
 "nbformat_minor": 2
}
