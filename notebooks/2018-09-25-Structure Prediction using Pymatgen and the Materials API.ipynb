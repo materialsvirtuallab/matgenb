{
 "cells": [
  {
   "cell_type": "markdown",
   "metadata": {},
   "source": [
    "# Introduction\n",
    "\n",
    "This notebook demonstrates how to predict structures using the built-in *structure_prediction* package in pymatgen. We will be gathering all possible structures (via the Materials API) of the chemical systems containing the highest probability specie substitutions for our original species. We will then resubstitute the original species back into these structures, filter out duplicates as well as preexisting structures already on the Materials Project, and output the newly predicted structures.\n",
    "\n",
    "*Author: Matthew McDermott (09/25/18)*"
   ]
  },
  {
   "cell_type": "code",
   "execution_count": null,
   "metadata": {},
   "outputs": [],
   "source": [
    "# Uncomment the subsequent lines in this cell to install dependencies for Google Colab.\n",
    "# !pip install -U pymatgen"
   ]
  },
  {
   "cell_type": "code",
   "execution_count": null,
   "metadata": {},
   "outputs": [],
   "source": [
    "# Imports we need for running structure prediction\n",
    "\n",
    "\n",
    "from pprint import pprint\n",
    "\n",
    "from mp_api.client import MPRester\n",
    "from pymatgen.analysis.structure_matcher import ElementComparator, StructureMatcher\n",
    "from pymatgen.analysis.structure_prediction.substitution_probability import (\n",
    "    SubstitutionPredictor,\n",
    ")\n",
    "from pymatgen.analysis.structure_prediction.substitutor import Substitutor\n",
    "from pymatgen.core.periodic_table import Specie\n",
    "from pymatgen.transformations.standard_transformations import (\n",
    "    AutoOxiStateDecorationTransformation,\n",
    ")"
   ]
  },
  {
   "cell_type": "code",
   "execution_count": null,
   "metadata": {},
   "outputs": [],
   "source": [
    "# Establish rester for accessing Materials API\n",
    "mpr = MPRester()  # INSERT YOUR OWN API KEY"
   ]
  },
  {
   "cell_type": "markdown",
   "metadata": {},
   "source": [
    "Here we define two variables -- *threshold* for the threshold probability in making substitution/structure predictions, and *num_subs* for how many substitutions you wish to explore:"
   ]
  },
  {
   "cell_type": "code",
   "execution_count": null,
   "metadata": {},
   "outputs": [],
   "source": [
    "threshold = 0.001  # threshold for substitution/structure predictions\n",
    "num_subs = 10  # number of highest probability substitutions you wish to see"
   ]
  },
  {
   "cell_type": "markdown",
   "metadata": {},
   "source": [
    "# Finding highest probability specie substitutions\n",
    "\n",
    "In this section, we use the SubstitutionPredictor to predict likely specie substitutions using a data-mined approach from ICSD data. This does not yet calculate probable structures -- only which species are likely to substitute for the original species you input. The substitution prediction methodology is presented in: \n",
    "*Hautier, G., Fischer, C., Ehrlacher, V., Jain, A., and Ceder, G. (2011) Data Mined Ionic Substitutions for the Discovery of New Compounds. Inorganic Chemistry, 50(2), 656-663. doi:10.1021/ic102031h*"
   ]
  },
  {
   "cell_type": "code",
   "execution_count": null,
   "metadata": {},
   "outputs": [],
   "source": [
    "original_species = [\n",
    "    Specie(\"Y\", 3),\n",
    "    Specie(\"Mn\", 3),\n",
    "    Specie(\"O\", -2),\n",
    "]  # List of original species along with their specified oxidation states for substituting into"
   ]
  },
  {
   "cell_type": "markdown",
   "metadata": {},
   "source": [
    "Predict most common specie substitutions, sort by highest probability, and take the number of substitutions specified by *num_subs*:"
   ]
  },
  {
   "cell_type": "code",
   "execution_count": null,
   "metadata": {},
   "outputs": [
    {
     "name": "stdout",
     "output_type": "stream",
     "text": [
      "[{'probability': 0.013371287006021255,\n",
      "  'substitutions': {Specie Y3+: Specie Y3+,\n",
      "                    Specie Mn3+: Specie Mn3+,\n",
      "                    Specie O2-: Specie O2-}},\n",
      " {'probability': 0.006955965572918707,\n",
      "  'substitutions': {Specie Na+: Specie Y3+,\n",
      "                    Specie Mn3+: Specie Mn3+,\n",
      "                    Specie O2-: Specie O2-}},\n",
      " {'probability': 0.005315460487213551,\n",
      "  'substitutions': {Specie Mn3+: Specie Mn3+,\n",
      "                    Specie Re5+: Specie Y3+,\n",
      "                    Specie O2-: Specie O2-}},\n",
      " {'probability': 0.004872512156006512,\n",
      "  'substitutions': {Specie Y3+: Specie Y3+,\n",
      "                    Specie Fe3+: Specie Mn3+,\n",
      "                    Specie O2-: Specie O2-}},\n",
      " {'probability': 0.004742382503118596,\n",
      "  'substitutions': {Specie Y3+: Specie Y3+,\n",
      "                    Specie Sc3+: Specie Mn3+,\n",
      "                    Specie O2-: Specie O2-}},\n",
      " {'probability': 0.004621732557387764,\n",
      "  'substitutions': {Specie Yb3+: Specie Y3+,\n",
      "                    Specie Mn3+: Specie Mn3+,\n",
      "                    Specie O2-: Specie O2-}},\n",
      " {'probability': 0.004484870617262718,\n",
      "  'substitutions': {Specie K+: Specie Y3+,\n",
      "                    Specie Mn3+: Specie Mn3+,\n",
      "                    Specie O2-: Specie O2-}},\n",
      " {'probability': 0.0043959763085879905,\n",
      "  'substitutions': {Specie Ho3+: Specie Y3+,\n",
      "                    Specie Mn3+: Specie Mn3+,\n",
      "                    Specie O2-: Specie O2-}},\n",
      " {'probability': 0.004293789374843302,\n",
      "  'substitutions': {Specie Nd3+: Specie Y3+,\n",
      "                    Specie Mn3+: Specie Mn3+,\n",
      "                    Specie O2-: Specie O2-}},\n",
      " {'probability': 0.004225888976078515,\n",
      "  'substitutions': {Specie Er3+: Specie Y3+,\n",
      "                    Specie Mn3+: Specie Mn3+,\n",
      "                    Specie O2-: Specie O2-}}]\n"
     ]
    }
   ],
   "source": [
    "subs = SubstitutionPredictor(threshold=threshold).list_prediction(original_species)\n",
    "subs.sort(key=lambda x: x[\"probability\"], reverse=True)\n",
    "subs = subs[0:num_subs]\n",
    "pprint(subs)"
   ]
  },
  {
   "cell_type": "markdown",
   "metadata": {},
   "source": [
    "Create a new list of just the substituted specie combinations:"
   ]
  },
  {
   "cell_type": "code",
   "execution_count": null,
   "metadata": {},
   "outputs": [
    {
     "name": "stdout",
     "output_type": "stream",
     "text": [
      "[[Specie Y3+, Specie Mn3+, Specie O2-],\n",
      " [Specie Na+, Specie Mn3+, Specie O2-],\n",
      " [Specie Re5+, Specie Mn3+, Specie O2-],\n",
      " [Specie Y3+, Specie Fe3+, Specie O2-],\n",
      " [Specie Y3+, Specie Sc3+, Specie O2-],\n",
      " [Specie Yb3+, Specie Mn3+, Specie O2-],\n",
      " [Specie K+, Specie Mn3+, Specie O2-],\n",
      " [Specie Ho3+, Specie Mn3+, Specie O2-],\n",
      " [Specie Nd3+, Specie Mn3+, Specie O2-],\n",
      " [Specie Er3+, Specie Mn3+, Specie O2-]]\n"
     ]
    }
   ],
   "source": [
    "trial_subs = [list(sub[\"substitutions\"].keys()) for sub in subs]\n",
    "pprint(trial_subs)"
   ]
  },
  {
   "cell_type": "markdown",
   "metadata": {},
   "source": [
    "Create a set of strings of each unique chemical system (elements separated by dashes):"
   ]
  },
  {
   "cell_type": "code",
   "execution_count": null,
   "metadata": {},
   "outputs": [
    {
     "name": "stdout",
     "output_type": "stream",
     "text": [
      "{'Er-Mn-O',\n",
      " 'Ho-Mn-O',\n",
      " 'K-Mn-O',\n",
      " 'Na-Mn-O',\n",
      " 'Nd-Mn-O',\n",
      " 'Re-Mn-O',\n",
      " 'Y-Fe-O',\n",
      " 'Y-Mn-O',\n",
      " 'Y-Sc-O',\n",
      " 'Yb-Mn-O'}\n"
     ]
    }
   ],
   "source": [
    "elem_sys_list = [[specie.element for specie in sub] for sub in trial_subs]\n",
    "\n",
    "chemsys_set = set()\n",
    "for sys in elem_sys_list:\n",
    "    chemsys_set.add(\"-\".join(map(str, sys)))\n",
    "\n",
    "pprint(chemsys_set)"
   ]
  },
  {
   "cell_type": "markdown",
   "metadata": {},
   "source": [
    "# Finding all structures for new chemical systems via Materials API\n",
    "\n",
    "Create a new dictionary and populate it with all structures for each chemical system:"
   ]
  },
  {
   "cell_type": "code",
   "execution_count": null,
   "metadata": {},
   "outputs": [],
   "source": [
    "all_structs = {}\n",
    "for chemsys in chemsys_set:\n",
    "    all_structs[chemsys] = mpr.get_structures(\n",
    "        chemsys\n",
    "    )  # Getting all structures -- this can take a while!"
   ]
  },
  {
   "cell_type": "code",
   "execution_count": null,
   "metadata": {},
   "outputs": [],
   "source": [
    "auto_oxi = (\n",
    "    AutoOxiStateDecorationTransformation()\n",
    ")  # create object to determine oxidation states at each lattice site"
   ]
  },
  {
   "cell_type": "markdown",
   "metadata": {},
   "source": [
    "Now create a new dictionary of all structures (with oxidation states) for each chemical system:"
   ]
  },
  {
   "cell_type": "code",
   "execution_count": null,
   "metadata": {},
   "outputs": [],
   "source": [
    "oxi_structs = {}\n",
    "\n",
    "for chemsys in all_structs:\n",
    "    oxi_structs[chemsys] = []\n",
    "\n",
    "    for num, struct in enumerate(all_structs[chemsys]):\n",
    "        try:\n",
    "            oxi_structs[chemsys].append(\n",
    "                {\n",
    "                    \"structure\": auto_oxi.apply_transformation(struct),\n",
    "                    \"id\": str(chemsys + \"_\" + str(num)),\n",
    "                }\n",
    "            )\n",
    "        except Exception:\n",
    "            continue  # if auto oxidation fails, try next structure\n",
    "\n",
    "# pprint(oxi_structs)"
   ]
  },
  {
   "cell_type": "markdown",
   "metadata": {},
   "source": [
    "# Substitute original species into new structures\n",
    "\n",
    "Now create a new dictionary *trans_structures* populated with predicted structures made up of original species. Note: these new predicted structures are *TransformedStructure* objeects:"
   ]
  },
  {
   "cell_type": "code",
   "execution_count": null,
   "metadata": {},
   "outputs": [],
   "source": [
    "sbr = Substitutor(\n",
    "    threshold=threshold\n",
    ")  # create a Substitutor object with structure prediction threshold"
   ]
  },
  {
   "cell_type": "code",
   "execution_count": null,
   "metadata": {},
   "outputs": [],
   "source": [
    "trans_structs = {}\n",
    "\n",
    "for chemsys in oxi_structs:\n",
    "    trans_structs[chemsys] = sbr.pred_from_structures(\n",
    "        original_species, oxi_structs[chemsys]\n",
    "    )"
   ]
  },
  {
   "cell_type": "markdown",
   "metadata": {},
   "source": [
    "Filter duplicate structures using StructureMatcher:"
   ]
  },
  {
   "cell_type": "code",
   "execution_count": null,
   "metadata": {},
   "outputs": [],
   "source": [
    "# create object for structure matching\n",
    "sm = StructureMatcher(comparator=ElementComparator(), primitive_cell=False)"
   ]
  },
  {
   "cell_type": "code",
   "execution_count": null,
   "metadata": {},
   "outputs": [
    {
     "name": "stdout",
     "output_type": "stream",
     "text": [
      "Number of entries BEFORE filtering: 16\n",
      "Number of entries AFTER filtering: 6\n"
     ]
    }
   ],
   "source": [
    "filtered_structs = {}  # new filtered dictionary\n",
    "seen_structs = []  # list of all seen structures, independent of chemical system\n",
    "\n",
    "n_entries = sum(len(sys) for sys in trans_structs.values())\n",
    "print(f\"Number of entries BEFORE filtering: {n_entries}\")\n",
    "\n",
    "for chemsys in trans_structs:\n",
    "    filtered_structs[chemsys] = []\n",
    "    for struct in trans_structs[chemsys]:\n",
    "        found = False\n",
    "        for struct2 in seen_structs:\n",
    "            if sm.fit(struct.final_structure, struct2.final_structure):\n",
    "                found = True\n",
    "                break\n",
    "        if not found:\n",
    "            filtered_structs[chemsys].append(struct)\n",
    "            seen_structs.append(struct)\n",
    "\n",
    "n_entries = sum(len(sys) for sys in filtered_structs.values())\n",
    "print(f\"Number of entries AFTER filtering: {n_entries}\")"
   ]
  },
  {
   "cell_type": "markdown",
   "metadata": {},
   "source": [
    "*NOTE: The chemical systems to which the filtered structures are assigned might change when re-running the program. Since we are filtering for duplicates across chemical systems, either of the two systems may be reported in the filtered dictionary. Which of the two systems it is simply depends on the order in that the filter algorithm follows (and it's reading from a naturally unordered dictionary!)*"
   ]
  },
  {
   "cell_type": "markdown",
   "metadata": {},
   "source": [
    "Now we wish to run one more filter to remove all duplicate structures already accessible on the Materials Project."
   ]
  },
  {
   "cell_type": "code",
   "execution_count": null,
   "metadata": {},
   "outputs": [],
   "source": [
    "# get all known MP structures for original system\n",
    "known_structs = mpr.get_structures(\"Y-Mn-O\")"
   ]
  },
  {
   "cell_type": "code",
   "execution_count": null,
   "metadata": {},
   "outputs": [
    {
     "name": "stdout",
     "output_type": "stream",
     "text": [
      "Number of entries BEFORE filtering against MP: 6\n",
      "Number of entries AFTER filtering against MP: 1\n",
      "{'Er-Mn-O': [],\n",
      " 'Ho-Mn-O': [],\n",
      " 'K-Mn-O': [],\n",
      " 'Na-Mn-O': [],\n",
      " 'Nd-Mn-O': [],\n",
      " 'Re-Mn-O': [],\n",
      " 'Y-Fe-O': [<pymatgen.alchemy.materials.TransformedStructure object at 0x1271dea90>],\n",
      " 'Y-Mn-O': [],\n",
      " 'Y-Sc-O': [],\n",
      " 'Yb-Mn-O': []}\n"
     ]
    }
   ],
   "source": [
    "final_filtered_structs = {}\n",
    "n_entries = sum(len(sys) for sys in filtered_structs.values())\n",
    "print(f\"Number of entries BEFORE filtering against MP: {n_entries}\")\n",
    "\n",
    "for chemsys in filtered_structs:\n",
    "    final_filtered_structs[chemsys] = []\n",
    "    for struct in filtered_structs[chemsys]:\n",
    "        found = False\n",
    "        for struct2 in known_structs:\n",
    "            if sm.fit(struct.final_structure, struct2):\n",
    "                found = True\n",
    "                break\n",
    "        if not found:\n",
    "            final_filtered_structs[chemsys].append(struct)\n",
    "\n",
    "n_entries = sum(len(sys) for sys in final_filtered_structs.values())\n",
    "print(f\"Number of entries AFTER filtering against MP: {n_entries}\")\n",
    "pprint(final_filtered_structs)"
   ]
  },
  {
   "cell_type": "markdown",
   "metadata": {},
   "source": [
    "Create final structure dictionary with StructureNL objects for each transformed structure (*Note: this requires installation of pybtex*):"
   ]
  },
  {
   "cell_type": "code",
   "execution_count": null,
   "metadata": {},
   "outputs": [
    {
     "name": "stderr",
     "output_type": "stream",
     "text": [
      "/Users/mcdermott/miniconda3/envs/dev/lib/python3.7/site-packages/pymatgen/alchemy/materials.py:346: UserWarning: Data in TransformedStructure.other_parameters discarded during type conversion to SNL\n",
      "  warn('Data in TransformedStructure.other_parameters discarded '\n"
     ]
    }
   ],
   "source": [
    "final_structs = {}\n",
    "for chemsys in final_filtered_structs:\n",
    "    final_structs[chemsys] = [\n",
    "        struct.to_snl([{\"name\": \"Matthew McDermott\", \"email\": \"N/A\"}])\n",
    "        for struct in final_filtered_structs[chemsys]\n",
    "    ]\n",
    "\n",
    "# Printing one of the StructureNL objects - this is a large dictionary!\n",
    "# pprint(final_structs['Y-Fe-O'][0].as_dict())"
   ]
  }
 ],
 "metadata": {
  "kernelspec": {
   "display_name": "Python 3 (ipykernel)",
   "language": "python",
   "name": "python3"
  },
  "language_info": {
   "codemirror_mode": {
    "name": "ipython",
    "version": 3
   },
   "file_extension": ".py",
   "mimetype": "text/x-python",
   "name": "python",
   "nbconvert_exporter": "python",
   "pygments_lexer": "ipython3",
   "version": "3.11.5"
  },
  "vscode": {
   "interpreter": {
    "hash": "8022b3e932e045c760cb4633b91dd1cb8bc60d104ca9808334cbd1645adbe837"
   }
  }
 },
 "nbformat": 4,
 "nbformat_minor": 2
}
