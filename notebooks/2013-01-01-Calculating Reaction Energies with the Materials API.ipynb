{
 "cells": [
  {
   "cell_type": "markdown",
   "metadata": {},
   "source": [
    "This notebook demonstrates how you can calculate reaction energies using the Materials API and pymatgen."
   ]
  },
  {
   "cell_type": "code",
   "execution_count": null,
   "metadata": {},
   "outputs": [],
   "source": [
    "# Uncomment the subsequent lines in this cell to install dependencies for Google Colab.\n",
    "# !pip install -U pymatgen"
   ]
  },
  {
   "cell_type": "code",
   "execution_count": null,
   "metadata": {},
   "outputs": [
    {
     "data": {
      "application/vnd.jupyter.widget-view+json": {
       "model_id": "a2df3dedded4417a9585b20941e0c078",
       "version_major": 2,
       "version_minor": 0
      },
      "text/plain": [
       "Retrieving ThermoDoc documents:   0%|          | 0/176 [00:00<?, ?it/s]"
      ]
     },
     "metadata": {},
     "output_type": "display_data"
    },
    {
     "name": "stdout",
     "output_type": "stream",
     "text": [
      "Caculated\n",
      "CaO + CO2 -> CaCO3\n",
      "Reaction energy = -146.61075988908848 kJ mol^-1\n"
     ]
    }
   ],
   "source": [
    "from mp_api.client import MPRester\n",
    "from pymatgen.analysis.reaction_calculator import ComputedReaction\n",
    "from pymatgen.core import Composition\n",
    "from pymatgen.core.units import FloatWithUnit\n",
    "\n",
    "# This initializes the REST adaptor. Put your own API key in if necessary.\n",
    "mpr = MPRester()\n",
    "\n",
    "# This gets all entries belonging to the Ca-C-O system.\n",
    "all_entries = mpr.get_entries_in_chemsys([\"Ca\", \"C\", \"O\"])\n",
    "\n",
    "\n",
    "# This method simply gets the lowest energy entry for all entry with the same composition.\n",
    "def get_most_stable_entry(formula):\n",
    "    relevant_entries = [\n",
    "        entry\n",
    "        for entry in all_entries\n",
    "        if entry.composition.reduced_formula == Composition(formula).reduced_formula\n",
    "    ]\n",
    "    relevant_entries = sorted(relevant_entries, key=lambda e: e.energy_per_atom)\n",
    "    return relevant_entries[0]\n",
    "\n",
    "\n",
    "CaO = get_most_stable_entry(\"CaO\")\n",
    "CO2 = get_most_stable_entry(\"CO2\")\n",
    "CaCO3 = get_most_stable_entry(\"CaCO3\")\n",
    "\n",
    "reaction = ComputedReaction([CaO, CO2], [CaCO3])\n",
    "energy = FloatWithUnit(reaction.calculated_reaction_energy, \"eV atom^-1\")\n",
    "\n",
    "print(\"Caculated\")\n",
    "print(reaction)\n",
    "print(\"Reaction energy = {}\".format(energy.to(\"kJ mol^-1\")))"
   ]
  }
 ],
 "metadata": {
  "anaconda-cloud": {},
  "kernelspec": {
   "display_name": "Python 3 (ipykernel)",
   "language": "python",
   "name": "python3"
  },
  "language_info": {
   "codemirror_mode": {
    "name": "ipython",
    "version": 3
   },
   "file_extension": ".py",
   "mimetype": "text/x-python",
   "name": "python",
   "nbconvert_exporter": "python",
   "pygments_lexer": "ipython3",
   "version": "3.11.8"
  },
  "vscode": {
   "interpreter": {
    "hash": "8022b3e932e045c760cb4633b91dd1cb8bc60d104ca9808334cbd1645adbe837"
   }
  }
 },
 "nbformat": 4,
 "nbformat_minor": 4
}
